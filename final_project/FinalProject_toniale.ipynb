{
 "cells": [
  {
   "cell_type": "markdown",
   "metadata": {},
   "source": [
    "# COGS 108 - Final Project change name of project"
   ]
  },
  {
   "cell_type": "markdown",
   "metadata": {},
   "source": [
    "# Overview "
   ]
  },
  {
   "cell_type": "markdown",
   "metadata": {},
   "source": [
    "This project is aimed at exploring the relationships and correlation, between the type of  restaurant, chain or independent, to their health inspection ratings using datasets focused on North Carolina's state capital, Raleigh. Along with that, I wanted to find out if the number of critical or non-critical violations had an effect on the Score. These possible relationships and the creation of visualizations were then used to conclude that chain restaurants in Raleigh did receive high inspection scores on average than independent restaurants, but no correlation was found between the number of critical and non-critical violations to the scores."
   ]
  },
  {
   "cell_type": "markdown",
   "metadata": {},
   "source": [
    "# Name & PID\n",
    "\n",
    "- Name: Tonia Le\n",
    "- GitHub Username: toniale"
   ]
  },
  {
   "cell_type": "markdown",
   "metadata": {},
   "source": [
    "# Research Question"
   ]
  },
  {
   "cell_type": "markdown",
   "metadata": {},
   "source": [
    "- Do chain restaurants in Raleigh, NC receive higher health inspection scores on average than independent restaurants? How does the number of critical and non-critical violations affect these scores?"
   ]
  },
  {
   "cell_type": "markdown",
   "metadata": {},
   "source": [
    "## Background and Prior Work"
   ]
  },
  {
   "cell_type": "markdown",
   "metadata": {},
   "source": [
    "In the food industry, there are local independent and chain restaurants. An independent restaurant in defined as one that functions on a relatively small scale, which means the owners manage one or maybe two stores. Chain restaurants on the other hand are corporate restaurant chains and franchises with a board of owners and can be found throughout a region or nation.[3] All businesses that serve food are subjected to regular health inspections to ensure the health and safety of their guests.During the health inspection, inspectors typically check a number of things including: food contamination, hygiene, and general cleanliess. These inspections occur at random, but could every 6 months. However, if a complaint is filed against a business, inspectors are obligated to come take a look.[4] After every visit, a report is filed which includes information such as if the violations were critical or not. Critical violations often pose a high risk to food safety, where as non-critical do not.[5]\n",
    "\n",
    "\n",
    "### Prior Work\n",
    "Prior work pertaining to health inspections and the type of restaurant(chain or independent) have found connection between the two factors using descriptive statistics and other data analyzing techniques. It was found that both chain and independent restaurants in Lousianna often found themselves with health violations, but non-chain restaurants had more frequent critical violations.[1] Another study conducted by researchers in Pennsylviania exploring how restaurant inspection requency and the surrounding area's sociodemographic characteristics related to the health ratings received by chain and non-chain restaurants. The researchers used \"nested mixed-effects regression analyses\" and found that chain restaurants had less total violations per inspetion compared to nonchain restaurants.[2]\n",
    "\n",
    "References (include links):\n",
    "\n",
    "- 1) This study conducted by Pei Liu and Yee Ming Lee, investigated food safety performance between ethnic and nonethnic and chain and nonchain restarants in Louisiana. They used descriptive statistics, t-test, and Pearson Chi-square analyses in their study. They concluded that the frequency of violations found by independently operated resturants is an indicator that they should comply with FDA Food Code more diligently. https://www.tandfonline.com/doi/pdf/10.1080/15378020.2016.1206770?casa_token=CT2p-9nupKYAAAAA:jnQSYKYnpMMMihqgMQrA1Fwrhb3xpSD4AK3IoZ4jt2Jz1LZF9BydrfW0U-bmkNYq57ibefgRYly-GA\n",
    "\n",
    "- 2) In this study by Sarah E. Leinwand, Karen Glanz, Brendan T. Keenan,and Charles C. Branas, the resesarchers sought out to explore how restaurant inspection frequency and the surrounding area's sociodemographic characteristics related to the ratings received by chain and non chain restaurants in Philadelphia, Pennsylvania between the years of 2013 and 2014. At the end of their study, they found that chain restuarants had less total violations per inspection compared to nonchain restaurants. https://www.ncbi.nlm.nih.gov/pmc/articles/PMC5349477/\n",
    "\n",
    "- 3) http://www.nevobusiness.com/independentrestaurants/ - Clarification on independent versus chain restaurants\n",
    "- 4) https://blog.typsy.com/how-do-health-inspections-work - How Do Health Inspections Work?\n",
    "- 5) https://www.statefoodsafety.com/Resources/Cartoons/january-cartoon-how-to-ace-your-health-inspections - How to Ace Your Health Inspections\n"
   ]
  },
  {
   "cell_type": "markdown",
   "metadata": {},
   "source": [
    "# Hypothesis\n"
   ]
  },
  {
   "cell_type": "markdown",
   "metadata": {},
   "source": [
    "The difference between chain and nonchain restaurants, is that chain restarants are to uphold the name of the franchise and maintain a certain level of quality ontop of the regulatory requirements by the U.S Food and Drug Administration. Because of this additional piece of accountability, I think chain restaurants in Raleigh tend to receive higher health inspection ratings on average than independent restaurants. In regards to the effect of the type of violation on an inspection rating, I think there would be a correlation between the number of critical violations and inspection scores, because I assume that more critical violations would weigh a restaurant's overall score down."
   ]
  },
  {
   "cell_type": "markdown",
   "metadata": {},
   "source": [
    "# Dataset(s) "
   ]
  },
  {
   "cell_type": "markdown",
   "metadata": {},
   "source": [
    "All of the following datatsets were provided by Professor Ellis on our COGS 108 course page. \n",
    "\n",
    "**Dataset 1: Restaurants** (restaurants.csv)\n",
    "\n",
    "Number of observations: 3324 rows, 14 columns\n",
    "\n",
    "The restaurants csv contains information of food busineses in North Carolina including their names and location(s).\n",
    "\n",
    "Variables that I will use: \n",
    "        - hsisid\n",
    "        - city\n",
    "        - facility_type\n",
    "\n",
    " \n",
    "**Dataset 2: Inspections** (inspections.csv)\n",
    "\n",
    "Number of observations: 18466 rows, 36 columns\n",
    "\n",
    "The inspections csv contains information regarding a business' visit from health inspectors, which includes: date of inspection, numbers of critical, and non-critical violations, etc. \n",
    "\n",
    "Variables that I will use: \n",
    "        - hsisid\n",
    "        - name\n",
    "        - city\n",
    "        - score\n",
    "        - facility_type\n",
    "        - num_critical\n",
    "        - num_non_critical\n",
    "\n",
    "The restaurants dataset will be used to retrieve observations of facilities listed as restaurants in Raleigh, NC. After wrangling the dataset, I will combine it with a *tidied* dataset of inspections to collect data on the health inspection scores and number of critical and non-critical violations. "
   ]
  },
  {
   "cell_type": "markdown",
   "metadata": {},
   "source": [
    "# Setup"
   ]
  },
  {
   "cell_type": "code",
   "execution_count": 1,
   "metadata": {},
   "outputs": [],
   "source": [
    "# Basic Necessities\n",
    "import pandas as pd\n",
    "import numpy as np\n",
    "\n",
    "# Visualization\n",
    "import matplotlib.pyplot as plt\n",
    "import seaborn as sns\n",
    "\n",
    "# Statistical Analysis\n",
    "import warnings\n",
    "from scipy import stats\n",
    "import patsy\n"
   ]
  },
  {
   "cell_type": "code",
   "execution_count": 2,
   "metadata": {},
   "outputs": [],
   "source": [
    "#Import DataFrames\n",
    "restaurants = pd.read_csv('restaurants.csv')\n",
    "inspections = pd.read_csv('inspections.csv')\n",
    "zip_codes = pd.read_csv('zipcodes.csv')\n",
    "violations = pd.read_csv('violations.csv')"
   ]
  },
  {
   "cell_type": "markdown",
   "metadata": {},
   "source": [
    "# Data Cleaning"
   ]
  },
  {
   "cell_type": "markdown",
   "metadata": {},
   "source": [
    "The csv datasets are not in tidy format, so to achieve a tidy dataset I will do the following for each:\n",
    "   - Rename the columns, because some of the column names are two words, which would look nicer separated by an underscore, as well as capitalizing the column name would make reading the dataset easier.\n",
    "   - Remove columns that are not related or relevant to our analysis and those thay may violate _**ethics and privacy**_\n",
    "   - Making sure the format of my data is consistent (lowercase, uppercase, etc.)\n",
    "   - After wrangling the individual datasets: restaurant and inspections into, we can merge them! \n",
    " "
   ]
  },
  {
   "cell_type": "markdown",
   "metadata": {},
   "source": [
    "# Part 1: Restaurant Dataset"
   ]
  },
  {
   "cell_type": "markdown",
   "metadata": {},
   "source": [
    "In the raw dataset,we have a number of variables. I am aiming to explore the relationship between the type of restaurant and health inspection ratings. \n",
    "\n",
    "However, there are many columns that are not related to our topic and may violate ethics and privacy, such as the specifics on location, so we will remove a few of the columns.\n",
    "\n",
    "We will be removing:\n",
    "    - phone_number\n",
    "    - x (longitude)\n",
    "    - y (latitude)\n",
    "    - geocode_status\n",
    "    - address1\n",
    "    - address2 \n",
    "    - state\n",
    "    - postalcode"
   ]
  },
  {
   "cell_type": "markdown",
   "metadata": {},
   "source": [
    "First, I will check to see if this is actually a dataset based on pure North Carolina businesses."
   ]
  },
  {
   "cell_type": "code",
   "execution_count": 3,
   "metadata": {},
   "outputs": [
    {
     "data": {
      "text/plain": [
       "array(['NC'], dtype=object)"
      ]
     },
     "execution_count": 3,
     "metadata": {},
     "output_type": "execute_result"
    }
   ],
   "source": [
    "restaurants['state'].unique()"
   ]
  },
  {
   "cell_type": "markdown",
   "metadata": {},
   "source": [
    "This dataset only contains information about North Carolina stores, so now we can add another irrelevant column to drop from our DataFrame."
   ]
  },
  {
   "cell_type": "code",
   "execution_count": 4,
   "metadata": {
    "scrolled": true
   },
   "outputs": [],
   "source": [
    "#Removing Unnecessary Columns\n",
    "restaurants = restaurants.drop(columns = ['phonenumber', 'x', 'y', 'geocodestatus', \n",
    "                                          'restaurantopendate', 'address1', 'address2',\n",
    "                                         'X.objectid','state', 'postalcode'])\n",
    "\n",
    "#Renaming the columns to make them easier to read\n",
    "restaurants.rename(columns={'hsisis': 'hsisid', 'name':'Name', \n",
    "                           'city': 'City',\n",
    "                            'facilitytype': 'Facility_Type',\n",
    "                           }, inplace=True)\n",
    "\n",
    "#Fixing the capitlizations under name and city:\n",
    "restaurants['Name'] = restaurants['Name'].str.title()\n",
    "restaurants['City'] = restaurants['City'].str.title()"
   ]
  },
  {
   "cell_type": "markdown",
   "metadata": {},
   "source": [
    "The data that I aim to analyze are chain and non-chain *_restaurants_*, in Raleigh, NC, so to continue with the cleaning process, I will only retrieve observations of facilities listed as a restaurant in the city of Raleigh."
   ]
  },
  {
   "cell_type": "code",
   "execution_count": 5,
   "metadata": {},
   "outputs": [
    {
     "data": {
      "text/html": [
       "<div>\n",
       "<style scoped>\n",
       "    .dataframe tbody tr th:only-of-type {\n",
       "        vertical-align: middle;\n",
       "    }\n",
       "\n",
       "    .dataframe tbody tr th {\n",
       "        vertical-align: top;\n",
       "    }\n",
       "\n",
       "    .dataframe thead th {\n",
       "        text-align: right;\n",
       "    }\n",
       "</style>\n",
       "<table border=\"1\" class=\"dataframe\">\n",
       "  <thead>\n",
       "    <tr style=\"text-align: right;\">\n",
       "      <th></th>\n",
       "      <th>hsisid</th>\n",
       "      <th>Name</th>\n",
       "      <th>City</th>\n",
       "      <th>Facility_Type</th>\n",
       "    </tr>\n",
       "  </thead>\n",
       "  <tbody>\n",
       "    <tr>\n",
       "      <th>0</th>\n",
       "      <td>4092017230</td>\n",
       "      <td>Spring Cafe 2</td>\n",
       "      <td>Raleigh</td>\n",
       "      <td>Restaurant</td>\n",
       "    </tr>\n",
       "    <tr>\n",
       "      <th>3</th>\n",
       "      <td>4092015333</td>\n",
       "      <td>The Remedy Diner</td>\n",
       "      <td>Raleigh</td>\n",
       "      <td>Restaurant</td>\n",
       "    </tr>\n",
       "    <tr>\n",
       "      <th>6</th>\n",
       "      <td>4092016679</td>\n",
       "      <td>Bittersweet</td>\n",
       "      <td>Raleigh</td>\n",
       "      <td>Restaurant</td>\n",
       "    </tr>\n",
       "    <tr>\n",
       "      <th>7</th>\n",
       "      <td>4092014493</td>\n",
       "      <td>Chick-Fil-A #1573</td>\n",
       "      <td>Raleigh</td>\n",
       "      <td>Restaurant</td>\n",
       "    </tr>\n",
       "    <tr>\n",
       "      <th>16</th>\n",
       "      <td>4092014293</td>\n",
       "      <td>Five Guys Burgers And Fries #2</td>\n",
       "      <td>Raleigh</td>\n",
       "      <td>Restaurant</td>\n",
       "    </tr>\n",
       "  </tbody>\n",
       "</table>\n",
       "</div>"
      ],
      "text/plain": [
       "        hsisid                            Name     City Facility_Type\n",
       "0   4092017230                   Spring Cafe 2  Raleigh    Restaurant\n",
       "3   4092015333                The Remedy Diner  Raleigh    Restaurant\n",
       "6   4092016679                     Bittersweet  Raleigh    Restaurant\n",
       "7   4092014493               Chick-Fil-A #1573  Raleigh    Restaurant\n",
       "16  4092014293  Five Guys Burgers And Fries #2  Raleigh    Restaurant"
      ]
     },
     "execution_count": 5,
     "metadata": {},
     "output_type": "execute_result"
    }
   ],
   "source": [
    "Raleigh_Restaurants = restaurants[(restaurants['City'].str.contains(\"Raleigh\")) & (restaurants['Facility_Type'] == 'Restaurant')]\n",
    "Raleigh_Restaurants.head()"
   ]
  },
  {
   "cell_type": "markdown",
   "metadata": {},
   "source": [
    "Now, I will separate chain and independent(non-chain) restaurants into their own DataFrames.\n",
    "\n",
    "Chain restaurants number their stores, so the dataset for chain restaurants will be those with a \"#\" in their names."
   ]
  },
  {
   "cell_type": "code",
   "execution_count": 6,
   "metadata": {},
   "outputs": [
    {
     "data": {
      "text/html": [
       "<div>\n",
       "<style scoped>\n",
       "    .dataframe tbody tr th:only-of-type {\n",
       "        vertical-align: middle;\n",
       "    }\n",
       "\n",
       "    .dataframe tbody tr th {\n",
       "        vertical-align: top;\n",
       "    }\n",
       "\n",
       "    .dataframe thead th {\n",
       "        text-align: right;\n",
       "    }\n",
       "</style>\n",
       "<table border=\"1\" class=\"dataframe\">\n",
       "  <thead>\n",
       "    <tr style=\"text-align: right;\">\n",
       "      <th></th>\n",
       "      <th>hsisid</th>\n",
       "      <th>Name</th>\n",
       "      <th>City</th>\n",
       "      <th>Facility_Type</th>\n",
       "    </tr>\n",
       "  </thead>\n",
       "  <tbody>\n",
       "    <tr>\n",
       "      <th>7</th>\n",
       "      <td>4092014493</td>\n",
       "      <td>Chick-Fil-A #1573</td>\n",
       "      <td>Raleigh</td>\n",
       "      <td>Restaurant</td>\n",
       "    </tr>\n",
       "    <tr>\n",
       "      <th>16</th>\n",
       "      <td>4092014293</td>\n",
       "      <td>Five Guys Burgers And Fries #2</td>\n",
       "      <td>Raleigh</td>\n",
       "      <td>Restaurant</td>\n",
       "    </tr>\n",
       "    <tr>\n",
       "      <th>43</th>\n",
       "      <td>4092016069</td>\n",
       "      <td>Subway #29952</td>\n",
       "      <td>Raleigh</td>\n",
       "      <td>Restaurant</td>\n",
       "    </tr>\n",
       "    <tr>\n",
       "      <th>46</th>\n",
       "      <td>4092011831</td>\n",
       "      <td>Taco Bell #3279</td>\n",
       "      <td>Raleigh</td>\n",
       "      <td>Restaurant</td>\n",
       "    </tr>\n",
       "    <tr>\n",
       "      <th>66</th>\n",
       "      <td>4092017102</td>\n",
       "      <td>Chick-Fil-A #868</td>\n",
       "      <td>Raleigh</td>\n",
       "      <td>Restaurant</td>\n",
       "    </tr>\n",
       "  </tbody>\n",
       "</table>\n",
       "</div>"
      ],
      "text/plain": [
       "        hsisid                            Name     City Facility_Type\n",
       "7   4092014493               Chick-Fil-A #1573  Raleigh    Restaurant\n",
       "16  4092014293  Five Guys Burgers And Fries #2  Raleigh    Restaurant\n",
       "43  4092016069                   Subway #29952  Raleigh    Restaurant\n",
       "46  4092011831                 Taco Bell #3279  Raleigh    Restaurant\n",
       "66  4092017102                Chick-Fil-A #868  Raleigh    Restaurant"
      ]
     },
     "execution_count": 6,
     "metadata": {},
     "output_type": "execute_result"
    }
   ],
   "source": [
    "chain_restaurants = Raleigh_Restaurants[Raleigh_Restaurants['Name'].str.contains('#')]\n",
    "chain_restaurants.head()"
   ]
  },
  {
   "cell_type": "markdown",
   "metadata": {},
   "source": [
    "Independent restaurants will be identified by those without a \"#\" in their names. "
   ]
  },
  {
   "cell_type": "code",
   "execution_count": 7,
   "metadata": {},
   "outputs": [
    {
     "data": {
      "text/html": [
       "<div>\n",
       "<style scoped>\n",
       "    .dataframe tbody tr th:only-of-type {\n",
       "        vertical-align: middle;\n",
       "    }\n",
       "\n",
       "    .dataframe tbody tr th {\n",
       "        vertical-align: top;\n",
       "    }\n",
       "\n",
       "    .dataframe thead th {\n",
       "        text-align: right;\n",
       "    }\n",
       "</style>\n",
       "<table border=\"1\" class=\"dataframe\">\n",
       "  <thead>\n",
       "    <tr style=\"text-align: right;\">\n",
       "      <th></th>\n",
       "      <th>hsisid</th>\n",
       "      <th>Name</th>\n",
       "      <th>City</th>\n",
       "      <th>Facility_Type</th>\n",
       "    </tr>\n",
       "  </thead>\n",
       "  <tbody>\n",
       "    <tr>\n",
       "      <th>0</th>\n",
       "      <td>4092017230</td>\n",
       "      <td>Spring Cafe 2</td>\n",
       "      <td>Raleigh</td>\n",
       "      <td>Restaurant</td>\n",
       "    </tr>\n",
       "    <tr>\n",
       "      <th>3</th>\n",
       "      <td>4092015333</td>\n",
       "      <td>The Remedy Diner</td>\n",
       "      <td>Raleigh</td>\n",
       "      <td>Restaurant</td>\n",
       "    </tr>\n",
       "    <tr>\n",
       "      <th>6</th>\n",
       "      <td>4092016679</td>\n",
       "      <td>Bittersweet</td>\n",
       "      <td>Raleigh</td>\n",
       "      <td>Restaurant</td>\n",
       "    </tr>\n",
       "    <tr>\n",
       "      <th>17</th>\n",
       "      <td>4092014336</td>\n",
       "      <td>Bonefish Grill</td>\n",
       "      <td>Raleigh</td>\n",
       "      <td>Restaurant</td>\n",
       "    </tr>\n",
       "    <tr>\n",
       "      <th>20</th>\n",
       "      <td>4092014675</td>\n",
       "      <td>Stromboli`S</td>\n",
       "      <td>Raleigh</td>\n",
       "      <td>Restaurant</td>\n",
       "    </tr>\n",
       "  </tbody>\n",
       "</table>\n",
       "</div>"
      ],
      "text/plain": [
       "        hsisid              Name     City Facility_Type\n",
       "0   4092017230     Spring Cafe 2  Raleigh    Restaurant\n",
       "3   4092015333  The Remedy Diner  Raleigh    Restaurant\n",
       "6   4092016679       Bittersweet  Raleigh    Restaurant\n",
       "17  4092014336    Bonefish Grill  Raleigh    Restaurant\n",
       "20  4092014675      Stromboli`S   Raleigh    Restaurant"
      ]
     },
     "execution_count": 7,
     "metadata": {},
     "output_type": "execute_result"
    }
   ],
   "source": [
    "independent_restaurants = Raleigh_Restaurants[~Raleigh_Restaurants['Name'].str.contains('#')]\n",
    "independent_restaurants.head()"
   ]
  },
  {
   "cell_type": "markdown",
   "metadata": {},
   "source": [
    "# Part 2: Inspection Dataset"
   ]
  },
  {
   "cell_type": "markdown",
   "metadata": {},
   "source": [
    "The raw dataset for inspections has a large amount of columns that are irrelevant for this analysis, so I will clean this dataset by removing unnecessary columns.\n",
    "\n",
    "I will be keeping shared columns in this dataset that are also in the restaurants dataset, because it will be needed to combine the two datasets later."
   ]
  },
  {
   "cell_type": "code",
   "execution_count": 8,
   "metadata": {},
   "outputs": [],
   "source": [
    "# Calling for inspections with specific columns\n",
    "inspections = inspections[['hsisid', 'name', 'city', 'score',\n",
    "                            'facilitytype', 'num_critical', 'num_non_critical']]\n",
    "                  \n",
    "# Renaming inspection dataset\n",
    "inspections.rename(columns = {'name':'Name', 'city': 'City',\n",
    "                                 'score':'Score',\n",
    "                              'facilitytype': 'Facility_Type'\n",
    "                             }, inplace=True)\n",
    "#The names under our city and name columns are not consistent with our other observations. This will help with the merging process later!\n",
    "inspections['City'] = inspections['City'].str.title()\n",
    "inspections['Name'] = inspections['Name'].str.title()"
   ]
  },
  {
   "cell_type": "markdown",
   "metadata": {},
   "source": [
    "In addition to the shared columns between the restaurant and inspection datasets, we will be keeping the number of critical and non-critical violations so we can look for any possible relations of those to the inspection scores. "
   ]
  },
  {
   "cell_type": "code",
   "execution_count": 9,
   "metadata": {},
   "outputs": [
    {
     "data": {
      "text/html": [
       "<div>\n",
       "<style scoped>\n",
       "    .dataframe tbody tr th:only-of-type {\n",
       "        vertical-align: middle;\n",
       "    }\n",
       "\n",
       "    .dataframe tbody tr th {\n",
       "        vertical-align: top;\n",
       "    }\n",
       "\n",
       "    .dataframe thead th {\n",
       "        text-align: right;\n",
       "    }\n",
       "</style>\n",
       "<table border=\"1\" class=\"dataframe\">\n",
       "  <thead>\n",
       "    <tr style=\"text-align: right;\">\n",
       "      <th></th>\n",
       "      <th>hsisid</th>\n",
       "      <th>Name</th>\n",
       "      <th>City</th>\n",
       "      <th>Score</th>\n",
       "      <th>Facility_Type</th>\n",
       "      <th>num_critical</th>\n",
       "      <th>num_non_critical</th>\n",
       "    </tr>\n",
       "  </thead>\n",
       "  <tbody>\n",
       "    <tr>\n",
       "      <th>0</th>\n",
       "      <td>4092013748</td>\n",
       "      <td>Cafe 3000 At Wake Med</td>\n",
       "      <td>Raleigh</td>\n",
       "      <td>96.0</td>\n",
       "      <td>Restaurant</td>\n",
       "      <td>9</td>\n",
       "      <td>7</td>\n",
       "    </tr>\n",
       "    <tr>\n",
       "      <th>1</th>\n",
       "      <td>4092014046</td>\n",
       "      <td>Overtime Sports Pub</td>\n",
       "      <td>Raleigh</td>\n",
       "      <td>98.0</td>\n",
       "      <td>Restaurant</td>\n",
       "      <td>0</td>\n",
       "      <td>11</td>\n",
       "    </tr>\n",
       "    <tr>\n",
       "      <th>2</th>\n",
       "      <td>4092015191</td>\n",
       "      <td>Taste Of China</td>\n",
       "      <td>Raleigh</td>\n",
       "      <td>97.0</td>\n",
       "      <td>Restaurant</td>\n",
       "      <td>4</td>\n",
       "      <td>8</td>\n",
       "    </tr>\n",
       "    <tr>\n",
       "      <th>6</th>\n",
       "      <td>4092013134</td>\n",
       "      <td>Pearl Chinese Restaurant</td>\n",
       "      <td>Raleigh</td>\n",
       "      <td>96.0</td>\n",
       "      <td>Restaurant</td>\n",
       "      <td>6</td>\n",
       "      <td>7</td>\n",
       "    </tr>\n",
       "    <tr>\n",
       "      <th>12</th>\n",
       "      <td>4092013641</td>\n",
       "      <td>California Pizza Kitchen</td>\n",
       "      <td>Raleigh</td>\n",
       "      <td>96.0</td>\n",
       "      <td>Restaurant</td>\n",
       "      <td>3</td>\n",
       "      <td>8</td>\n",
       "    </tr>\n",
       "  </tbody>\n",
       "</table>\n",
       "</div>"
      ],
      "text/plain": [
       "        hsisid                      Name     City  Score Facility_Type  \\\n",
       "0   4092013748     Cafe 3000 At Wake Med  Raleigh   96.0    Restaurant   \n",
       "1   4092014046       Overtime Sports Pub  Raleigh   98.0    Restaurant   \n",
       "2   4092015191            Taste Of China  Raleigh   97.0    Restaurant   \n",
       "6   4092013134  Pearl Chinese Restaurant  Raleigh   96.0    Restaurant   \n",
       "12  4092013641  California Pizza Kitchen  Raleigh   96.0    Restaurant   \n",
       "\n",
       "    num_critical  num_non_critical  \n",
       "0              9                 7  \n",
       "1              0                11  \n",
       "2              4                 8  \n",
       "6              6                 7  \n",
       "12             3                 8  "
      ]
     },
     "execution_count": 9,
     "metadata": {},
     "output_type": "execute_result"
    }
   ],
   "source": [
    "# Getting inspections in the city of Raleigh and from restaurants only\n",
    "Raleigh_Inspections = inspections[(inspections['City'].str.contains(\"Raleigh\")) & (inspections['Facility_Type'] == 'Restaurant')]\n",
    "Raleigh_Inspections.head()"
   ]
  },
  {
   "cell_type": "markdown",
   "metadata": {},
   "source": [
    "Now, we'll split the inspections up by the type of restaurants (chain v.s independent), just like with the restaurants dataset."
   ]
  },
  {
   "cell_type": "code",
   "execution_count": 10,
   "metadata": {
    "scrolled": true
   },
   "outputs": [
    {
     "data": {
      "text/html": [
       "<div>\n",
       "<style scoped>\n",
       "    .dataframe tbody tr th:only-of-type {\n",
       "        vertical-align: middle;\n",
       "    }\n",
       "\n",
       "    .dataframe tbody tr th {\n",
       "        vertical-align: top;\n",
       "    }\n",
       "\n",
       "    .dataframe thead th {\n",
       "        text-align: right;\n",
       "    }\n",
       "</style>\n",
       "<table border=\"1\" class=\"dataframe\">\n",
       "  <thead>\n",
       "    <tr style=\"text-align: right;\">\n",
       "      <th></th>\n",
       "      <th>hsisid</th>\n",
       "      <th>Name</th>\n",
       "      <th>City</th>\n",
       "      <th>Score</th>\n",
       "      <th>Facility_Type</th>\n",
       "      <th>num_critical</th>\n",
       "      <th>num_non_critical</th>\n",
       "    </tr>\n",
       "  </thead>\n",
       "  <tbody>\n",
       "    <tr>\n",
       "      <th>15</th>\n",
       "      <td>4092015935</td>\n",
       "      <td>Golden Corral #942</td>\n",
       "      <td>Raleigh</td>\n",
       "      <td>95.5</td>\n",
       "      <td>Restaurant</td>\n",
       "      <td>4</td>\n",
       "      <td>4</td>\n",
       "    </tr>\n",
       "    <tr>\n",
       "      <th>22</th>\n",
       "      <td>4092013250</td>\n",
       "      <td>Cafe Carolina #1</td>\n",
       "      <td>Raleigh</td>\n",
       "      <td>97.0</td>\n",
       "      <td>Restaurant</td>\n",
       "      <td>6</td>\n",
       "      <td>8</td>\n",
       "    </tr>\n",
       "    <tr>\n",
       "      <th>26</th>\n",
       "      <td>4092014355</td>\n",
       "      <td>Jersey Mike`S #3002-A</td>\n",
       "      <td>Raleigh</td>\n",
       "      <td>95.5</td>\n",
       "      <td>Restaurant</td>\n",
       "      <td>8</td>\n",
       "      <td>7</td>\n",
       "    </tr>\n",
       "    <tr>\n",
       "      <th>32</th>\n",
       "      <td>4092011879</td>\n",
       "      <td>El Dorado #8</td>\n",
       "      <td>Raleigh</td>\n",
       "      <td>92.5</td>\n",
       "      <td>Restaurant</td>\n",
       "      <td>6</td>\n",
       "      <td>15</td>\n",
       "    </tr>\n",
       "    <tr>\n",
       "      <th>53</th>\n",
       "      <td>4092016249</td>\n",
       "      <td>Jersey Mikes #3131</td>\n",
       "      <td>Raleigh</td>\n",
       "      <td>99.0</td>\n",
       "      <td>Restaurant</td>\n",
       "      <td>5</td>\n",
       "      <td>3</td>\n",
       "    </tr>\n",
       "  </tbody>\n",
       "</table>\n",
       "</div>"
      ],
      "text/plain": [
       "        hsisid                   Name     City  Score Facility_Type  \\\n",
       "15  4092015935     Golden Corral #942  Raleigh   95.5    Restaurant   \n",
       "22  4092013250       Cafe Carolina #1  Raleigh   97.0    Restaurant   \n",
       "26  4092014355  Jersey Mike`S #3002-A  Raleigh   95.5    Restaurant   \n",
       "32  4092011879           El Dorado #8  Raleigh   92.5    Restaurant   \n",
       "53  4092016249     Jersey Mikes #3131  Raleigh   99.0    Restaurant   \n",
       "\n",
       "    num_critical  num_non_critical  \n",
       "15             4                 4  \n",
       "22             6                 8  \n",
       "26             8                 7  \n",
       "32             6                15  \n",
       "53             5                 3  "
      ]
     },
     "execution_count": 10,
     "metadata": {},
     "output_type": "execute_result"
    }
   ],
   "source": [
    "chain_inspections = Raleigh_Inspections[Raleigh_Inspections['Name'].str.contains('#')]\n",
    "chain_inspections.head()"
   ]
  },
  {
   "cell_type": "code",
   "execution_count": 11,
   "metadata": {},
   "outputs": [
    {
     "data": {
      "text/html": [
       "<div>\n",
       "<style scoped>\n",
       "    .dataframe tbody tr th:only-of-type {\n",
       "        vertical-align: middle;\n",
       "    }\n",
       "\n",
       "    .dataframe tbody tr th {\n",
       "        vertical-align: top;\n",
       "    }\n",
       "\n",
       "    .dataframe thead th {\n",
       "        text-align: right;\n",
       "    }\n",
       "</style>\n",
       "<table border=\"1\" class=\"dataframe\">\n",
       "  <thead>\n",
       "    <tr style=\"text-align: right;\">\n",
       "      <th></th>\n",
       "      <th>hsisid</th>\n",
       "      <th>Name</th>\n",
       "      <th>City</th>\n",
       "      <th>Score</th>\n",
       "      <th>Facility_Type</th>\n",
       "      <th>num_critical</th>\n",
       "      <th>num_non_critical</th>\n",
       "    </tr>\n",
       "  </thead>\n",
       "  <tbody>\n",
       "    <tr>\n",
       "      <th>0</th>\n",
       "      <td>4092013748</td>\n",
       "      <td>Cafe 3000 At Wake Med</td>\n",
       "      <td>Raleigh</td>\n",
       "      <td>96.0</td>\n",
       "      <td>Restaurant</td>\n",
       "      <td>9</td>\n",
       "      <td>7</td>\n",
       "    </tr>\n",
       "    <tr>\n",
       "      <th>1</th>\n",
       "      <td>4092014046</td>\n",
       "      <td>Overtime Sports Pub</td>\n",
       "      <td>Raleigh</td>\n",
       "      <td>98.0</td>\n",
       "      <td>Restaurant</td>\n",
       "      <td>0</td>\n",
       "      <td>11</td>\n",
       "    </tr>\n",
       "    <tr>\n",
       "      <th>2</th>\n",
       "      <td>4092015191</td>\n",
       "      <td>Taste Of China</td>\n",
       "      <td>Raleigh</td>\n",
       "      <td>97.0</td>\n",
       "      <td>Restaurant</td>\n",
       "      <td>4</td>\n",
       "      <td>8</td>\n",
       "    </tr>\n",
       "    <tr>\n",
       "      <th>6</th>\n",
       "      <td>4092013134</td>\n",
       "      <td>Pearl Chinese Restaurant</td>\n",
       "      <td>Raleigh</td>\n",
       "      <td>96.0</td>\n",
       "      <td>Restaurant</td>\n",
       "      <td>6</td>\n",
       "      <td>7</td>\n",
       "    </tr>\n",
       "    <tr>\n",
       "      <th>12</th>\n",
       "      <td>4092013641</td>\n",
       "      <td>California Pizza Kitchen</td>\n",
       "      <td>Raleigh</td>\n",
       "      <td>96.0</td>\n",
       "      <td>Restaurant</td>\n",
       "      <td>3</td>\n",
       "      <td>8</td>\n",
       "    </tr>\n",
       "  </tbody>\n",
       "</table>\n",
       "</div>"
      ],
      "text/plain": [
       "        hsisid                      Name     City  Score Facility_Type  \\\n",
       "0   4092013748     Cafe 3000 At Wake Med  Raleigh   96.0    Restaurant   \n",
       "1   4092014046       Overtime Sports Pub  Raleigh   98.0    Restaurant   \n",
       "2   4092015191            Taste Of China  Raleigh   97.0    Restaurant   \n",
       "6   4092013134  Pearl Chinese Restaurant  Raleigh   96.0    Restaurant   \n",
       "12  4092013641  California Pizza Kitchen  Raleigh   96.0    Restaurant   \n",
       "\n",
       "    num_critical  num_non_critical  \n",
       "0              9                 7  \n",
       "1              0                11  \n",
       "2              4                 8  \n",
       "6              6                 7  \n",
       "12             3                 8  "
      ]
     },
     "execution_count": 11,
     "metadata": {},
     "output_type": "execute_result"
    }
   ],
   "source": [
    "independent_inspections = Raleigh_Inspections[~Raleigh_Inspections['Name'].str.contains('#')]\n",
    "independent_inspections.head()"
   ]
  },
  {
   "cell_type": "markdown",
   "metadata": {},
   "source": [
    "# Part 3: Combining Restaurant and Inspection DataFrames"
   ]
  },
  {
   "cell_type": "markdown",
   "metadata": {},
   "source": [
    "I am interested in finding a relation between the type of restaurant and their health inspection scores, so with the previous DataFrames already split by their types, we can now merge the restaurant and inspection DataFrames. This allows us to see the numbers from our inspections dataset (score, number critical, and non-critical) with its associated restaurant. \n",
    "\n",
    "For both of the two new DataFrames to be created, we will use the **hsisid** column to match inspection information with their restaurants."
   ]
  },
  {
   "cell_type": "code",
   "execution_count": 12,
   "metadata": {},
   "outputs": [
    {
     "data": {
      "text/html": [
       "<div>\n",
       "<style scoped>\n",
       "    .dataframe tbody tr th:only-of-type {\n",
       "        vertical-align: middle;\n",
       "    }\n",
       "\n",
       "    .dataframe tbody tr th {\n",
       "        vertical-align: top;\n",
       "    }\n",
       "\n",
       "    .dataframe thead th {\n",
       "        text-align: right;\n",
       "    }\n",
       "</style>\n",
       "<table border=\"1\" class=\"dataframe\">\n",
       "  <thead>\n",
       "    <tr style=\"text-align: right;\">\n",
       "      <th></th>\n",
       "      <th>hsisid</th>\n",
       "      <th>Name</th>\n",
       "      <th>City</th>\n",
       "      <th>Facility_Type</th>\n",
       "      <th>Score</th>\n",
       "      <th>num_critical</th>\n",
       "      <th>num_non_critical</th>\n",
       "    </tr>\n",
       "  </thead>\n",
       "  <tbody>\n",
       "    <tr>\n",
       "      <th>0</th>\n",
       "      <td>4092014493</td>\n",
       "      <td>Chick-Fil-A #1573</td>\n",
       "      <td>Raleigh</td>\n",
       "      <td>Restaurant</td>\n",
       "      <td>97.0</td>\n",
       "      <td>3</td>\n",
       "      <td>8</td>\n",
       "    </tr>\n",
       "    <tr>\n",
       "      <th>1</th>\n",
       "      <td>4092014493</td>\n",
       "      <td>Chick-Fil-A #1573</td>\n",
       "      <td>Raleigh</td>\n",
       "      <td>Restaurant</td>\n",
       "      <td>97.5</td>\n",
       "      <td>5</td>\n",
       "      <td>3</td>\n",
       "    </tr>\n",
       "    <tr>\n",
       "      <th>2</th>\n",
       "      <td>4092014493</td>\n",
       "      <td>Chick-Fil-A #1573</td>\n",
       "      <td>Raleigh</td>\n",
       "      <td>Restaurant</td>\n",
       "      <td>98.0</td>\n",
       "      <td>0</td>\n",
       "      <td>2</td>\n",
       "    </tr>\n",
       "    <tr>\n",
       "      <th>3</th>\n",
       "      <td>4092014493</td>\n",
       "      <td>Chick-Fil-A #1573</td>\n",
       "      <td>Raleigh</td>\n",
       "      <td>Restaurant</td>\n",
       "      <td>94.0</td>\n",
       "      <td>4</td>\n",
       "      <td>7</td>\n",
       "    </tr>\n",
       "    <tr>\n",
       "      <th>4</th>\n",
       "      <td>4092014493</td>\n",
       "      <td>Chick-Fil-A #1573</td>\n",
       "      <td>Raleigh</td>\n",
       "      <td>Restaurant</td>\n",
       "      <td>97.0</td>\n",
       "      <td>2</td>\n",
       "      <td>6</td>\n",
       "    </tr>\n",
       "  </tbody>\n",
       "</table>\n",
       "</div>"
      ],
      "text/plain": [
       "       hsisid               Name     City Facility_Type  Score  num_critical  \\\n",
       "0  4092014493  Chick-Fil-A #1573  Raleigh    Restaurant   97.0             3   \n",
       "1  4092014493  Chick-Fil-A #1573  Raleigh    Restaurant   97.5             5   \n",
       "2  4092014493  Chick-Fil-A #1573  Raleigh    Restaurant   98.0             0   \n",
       "3  4092014493  Chick-Fil-A #1573  Raleigh    Restaurant   94.0             4   \n",
       "4  4092014493  Chick-Fil-A #1573  Raleigh    Restaurant   97.0             2   \n",
       "\n",
       "   num_non_critical  \n",
       "0                 8  \n",
       "1                 3  \n",
       "2                 2  \n",
       "3                 7  \n",
       "4                 6  "
      ]
     },
     "execution_count": 12,
     "metadata": {},
     "output_type": "execute_result"
    }
   ],
   "source": [
    "# FULL MERGED INDEPENDENT RESTAURANT DATA\n",
    "chain_restaurant_inspection = pd.merge(left = chain_restaurants, right =  chain_inspections, \n",
    "                      on=['hsisid','Name','City', 'Facility_Type'] , how = 'inner')\n",
    "chain_restaurant_inspection.head()"
   ]
  },
  {
   "cell_type": "markdown",
   "metadata": {},
   "source": [
    "For the inspections of chain restaurants, we have 1479 observations although we only had 279 chain restaurants before merging, because health inspectors do not only inspect once! The multiple occurrences of a single restaurant in the data are due to the number of visits a restaurant received from a health inspector.  "
   ]
  },
  {
   "cell_type": "markdown",
   "metadata": {},
   "source": [
    "Similar observation here on the independent restaurant inspections."
   ]
  },
  {
   "cell_type": "code",
   "execution_count": 13,
   "metadata": {},
   "outputs": [
    {
     "data": {
      "text/html": [
       "<div>\n",
       "<style scoped>\n",
       "    .dataframe tbody tr th:only-of-type {\n",
       "        vertical-align: middle;\n",
       "    }\n",
       "\n",
       "    .dataframe tbody tr th {\n",
       "        vertical-align: top;\n",
       "    }\n",
       "\n",
       "    .dataframe thead th {\n",
       "        text-align: right;\n",
       "    }\n",
       "</style>\n",
       "<table border=\"1\" class=\"dataframe\">\n",
       "  <thead>\n",
       "    <tr style=\"text-align: right;\">\n",
       "      <th></th>\n",
       "      <th>hsisid</th>\n",
       "      <th>Name</th>\n",
       "      <th>City</th>\n",
       "      <th>Facility_Type</th>\n",
       "      <th>Score</th>\n",
       "      <th>num_critical</th>\n",
       "      <th>num_non_critical</th>\n",
       "    </tr>\n",
       "  </thead>\n",
       "  <tbody>\n",
       "    <tr>\n",
       "      <th>0</th>\n",
       "      <td>4092017230</td>\n",
       "      <td>Spring Cafe 2</td>\n",
       "      <td>Raleigh</td>\n",
       "      <td>Restaurant</td>\n",
       "      <td>88.0</td>\n",
       "      <td>9</td>\n",
       "      <td>7</td>\n",
       "    </tr>\n",
       "    <tr>\n",
       "      <th>1</th>\n",
       "      <td>4092015333</td>\n",
       "      <td>The Remedy Diner</td>\n",
       "      <td>Raleigh</td>\n",
       "      <td>Restaurant</td>\n",
       "      <td>98.5</td>\n",
       "      <td>1</td>\n",
       "      <td>2</td>\n",
       "    </tr>\n",
       "    <tr>\n",
       "      <th>2</th>\n",
       "      <td>4092015333</td>\n",
       "      <td>The Remedy Diner</td>\n",
       "      <td>Raleigh</td>\n",
       "      <td>Restaurant</td>\n",
       "      <td>96.5</td>\n",
       "      <td>1</td>\n",
       "      <td>11</td>\n",
       "    </tr>\n",
       "    <tr>\n",
       "      <th>3</th>\n",
       "      <td>4092015333</td>\n",
       "      <td>The Remedy Diner</td>\n",
       "      <td>Raleigh</td>\n",
       "      <td>Restaurant</td>\n",
       "      <td>90.0</td>\n",
       "      <td>3</td>\n",
       "      <td>7</td>\n",
       "    </tr>\n",
       "    <tr>\n",
       "      <th>4</th>\n",
       "      <td>4092015333</td>\n",
       "      <td>The Remedy Diner</td>\n",
       "      <td>Raleigh</td>\n",
       "      <td>Restaurant</td>\n",
       "      <td>93.5</td>\n",
       "      <td>3</td>\n",
       "      <td>8</td>\n",
       "    </tr>\n",
       "  </tbody>\n",
       "</table>\n",
       "</div>"
      ],
      "text/plain": [
       "       hsisid              Name     City Facility_Type  Score  num_critical  \\\n",
       "0  4092017230     Spring Cafe 2  Raleigh    Restaurant   88.0             9   \n",
       "1  4092015333  The Remedy Diner  Raleigh    Restaurant   98.5             1   \n",
       "2  4092015333  The Remedy Diner  Raleigh    Restaurant   96.5             1   \n",
       "3  4092015333  The Remedy Diner  Raleigh    Restaurant   90.0             3   \n",
       "4  4092015333  The Remedy Diner  Raleigh    Restaurant   93.5             3   \n",
       "\n",
       "   num_non_critical  \n",
       "0                 7  \n",
       "1                 2  \n",
       "2                11  \n",
       "3                 7  \n",
       "4                 8  "
      ]
     },
     "execution_count": 13,
     "metadata": {},
     "output_type": "execute_result"
    }
   ],
   "source": [
    "# FULL MERGED INDEPENDENT RESTAURANT DATA\n",
    "independent_restaurant_inspection = pd.merge(left = independent_restaurants, right =  independent_inspections, \n",
    "                      on=['hsisid','Name','City', 'Facility_Type'] , how = 'inner')\n",
    "\n",
    "independent_restaurant_inspection.head()"
   ]
  },
  {
   "cell_type": "markdown",
   "metadata": {},
   "source": [
    "Now that the restaurant names are aligned with the restaurant type, health rating scores, critical, and non-critical violations, we can create another DataFrames to use for the analysis. \n",
    "\n",
    "This next dataset takes the full merged chain restaurant data, but we'll clean it up a bit more by grouping chain restuarant's statistics together."
   ]
  },
  {
   "cell_type": "code",
   "execution_count": 14,
   "metadata": {},
   "outputs": [],
   "source": [
    "# I won't be using this directly, but it will be used in our final DataFrame!\n",
    "chain_sums = chain_restaurant_inspection.groupby('Name').sum().reset_index()"
   ]
  },
  {
   "cell_type": "markdown",
   "metadata": {},
   "source": [
    "After grouping the dataset by the restaurant names, we have 256 names. The following line ensures that they are all unique. This is important to note, because if there were duplicates (not including store franchises, identified by #), our analysis would not be too accurate."
   ]
  },
  {
   "cell_type": "code",
   "execution_count": 15,
   "metadata": {},
   "outputs": [
    {
     "data": {
      "text/plain": [
       "256"
      ]
     },
     "execution_count": 15,
     "metadata": {},
     "output_type": "execute_result"
    }
   ],
   "source": [
    "len(chain_sums.get('Name').unique())"
   ]
  },
  {
   "cell_type": "markdown",
   "metadata": {},
   "source": [
    "This next line will group our independent restaurant dataset (with their inspection information) by their name, because although we do not expect them to have as many locations as a chain restaurant, independent restaurants are also visited by health inspectors more than once."
   ]
  },
  {
   "cell_type": "code",
   "execution_count": 16,
   "metadata": {},
   "outputs": [],
   "source": [
    "# Same purpose as chain_sums\n",
    "independent_sums = independent_restaurant_inspection.groupby('Name').sum().reset_index()"
   ]
  },
  {
   "cell_type": "code",
   "execution_count": 17,
   "metadata": {},
   "outputs": [
    {
     "data": {
      "text/plain": [
       "790"
      ]
     },
     "execution_count": 17,
     "metadata": {},
     "output_type": "execute_result"
    }
   ],
   "source": [
    "len(independent_sums.get('Name').unique())"
   ]
  },
  {
   "cell_type": "markdown",
   "metadata": {},
   "source": [
    "# Data Analysis & Results"
   ]
  },
  {
   "cell_type": "markdown",
   "metadata": {},
   "source": [
    "After splitting the restaurant and inspection datasets by chain and non-chain(independent), we are now ready to analyze it. \n",
    "\n",
    "**Reminder:** the question that we're seeking to answer is:\n",
    "\n",
    "\"Do chain restaurants in Raleigh, North Carolina receive higher health inspection ratings than independent restaurants? How do the type of violation(critical or non-critical) affect these ratings?\""
   ]
  },
  {
   "cell_type": "markdown",
   "metadata": {},
   "source": [
    "#### These next two DataFrames will be what we will use to create our visualizations.\n",
    "The observations are of the store names, the average score received(total score/ number of visits), and the number of critical and non-critical violations.\n",
    "\n",
    "**df_chain** is soley contains information of chain restaurants and **df_independent** only contains information of independent(non-chain) restaurants."
   ]
  },
  {
   "cell_type": "markdown",
   "metadata": {},
   "source": [
    "Forming an average score column will allow us to figure out if chain restaurants receive higher inspection scores than non-chain on average."
   ]
  },
  {
   "cell_type": "code",
   "execution_count": 19,
   "metadata": {},
   "outputs": [
    {
     "data": {
      "text/html": [
       "<div>\n",
       "<style scoped>\n",
       "    .dataframe tbody tr th:only-of-type {\n",
       "        vertical-align: middle;\n",
       "    }\n",
       "\n",
       "    .dataframe tbody tr th {\n",
       "        vertical-align: top;\n",
       "    }\n",
       "\n",
       "    .dataframe thead th {\n",
       "        text-align: right;\n",
       "    }\n",
       "</style>\n",
       "<table border=\"1\" class=\"dataframe\">\n",
       "  <thead>\n",
       "    <tr style=\"text-align: right;\">\n",
       "      <th></th>\n",
       "      <th>Name</th>\n",
       "      <th>hsisid</th>\n",
       "      <th>num_critical</th>\n",
       "      <th>num_non_critical</th>\n",
       "      <th>Average_Score</th>\n",
       "    </tr>\n",
       "  </thead>\n",
       "  <tbody>\n",
       "    <tr>\n",
       "      <th>0</th>\n",
       "      <td>Applebee`S #353</td>\n",
       "      <td>36828134280</td>\n",
       "      <td>31</td>\n",
       "      <td>98</td>\n",
       "      <td>93.000</td>\n",
       "    </tr>\n",
       "    <tr>\n",
       "      <th>1</th>\n",
       "      <td>Arby'S #6151</td>\n",
       "      <td>4092017159</td>\n",
       "      <td>3</td>\n",
       "      <td>6</td>\n",
       "      <td>96.500</td>\n",
       "    </tr>\n",
       "    <tr>\n",
       "      <th>2</th>\n",
       "      <td>Arby`S #7814</td>\n",
       "      <td>20460073785</td>\n",
       "      <td>15</td>\n",
       "      <td>19</td>\n",
       "      <td>96.700</td>\n",
       "    </tr>\n",
       "    <tr>\n",
       "      <th>3</th>\n",
       "      <td>Arbys #6657</td>\n",
       "      <td>4092017152</td>\n",
       "      <td>4</td>\n",
       "      <td>5</td>\n",
       "      <td>94.000</td>\n",
       "    </tr>\n",
       "    <tr>\n",
       "      <th>4</th>\n",
       "      <td>Au Bon Pain Cafe #254</td>\n",
       "      <td>32736130576</td>\n",
       "      <td>39</td>\n",
       "      <td>51</td>\n",
       "      <td>96.375</td>\n",
       "    </tr>\n",
       "  </tbody>\n",
       "</table>\n",
       "</div>"
      ],
      "text/plain": [
       "                    Name       hsisid  num_critical  num_non_critical  \\\n",
       "0        Applebee`S #353  36828134280            31                98   \n",
       "1           Arby'S #6151   4092017159             3                 6   \n",
       "2           Arby`S #7814  20460073785            15                19   \n",
       "3            Arbys #6657   4092017152             4                 5   \n",
       "4  Au Bon Pain Cafe #254  32736130576            39                51   \n",
       "\n",
       "   Average_Score  \n",
       "0         93.000  \n",
       "1         96.500  \n",
       "2         96.700  \n",
       "3         94.000  \n",
       "4         96.375  "
      ]
     },
     "execution_count": 19,
     "metadata": {},
     "output_type": "execute_result"
    }
   ],
   "source": [
    "# Average score, sum of violations (critical and non)\n",
    "df_chain = chain_sums.assign(Average_Score = chain_restaurant_inspection.groupby('Name').mean().reset_index().get('Score')).drop(columns=['Score'])\n",
    "df_chain.head()"
   ]
  },
  {
   "cell_type": "code",
   "execution_count": 20,
   "metadata": {},
   "outputs": [
    {
     "data": {
      "text/html": [
       "<div>\n",
       "<style scoped>\n",
       "    .dataframe tbody tr th:only-of-type {\n",
       "        vertical-align: middle;\n",
       "    }\n",
       "\n",
       "    .dataframe tbody tr th {\n",
       "        vertical-align: top;\n",
       "    }\n",
       "\n",
       "    .dataframe thead th {\n",
       "        text-align: right;\n",
       "    }\n",
       "</style>\n",
       "<table border=\"1\" class=\"dataframe\">\n",
       "  <thead>\n",
       "    <tr style=\"text-align: right;\">\n",
       "      <th></th>\n",
       "      <th>Name</th>\n",
       "      <th>hsisid</th>\n",
       "      <th>num_critical</th>\n",
       "      <th>num_non_critical</th>\n",
       "      <th>Average_Score</th>\n",
       "    </tr>\n",
       "  </thead>\n",
       "  <tbody>\n",
       "    <tr>\n",
       "      <th>0</th>\n",
       "      <td>115 Midtowne</td>\n",
       "      <td>24552085866</td>\n",
       "      <td>30</td>\n",
       "      <td>53</td>\n",
       "      <td>93.916667</td>\n",
       "    </tr>\n",
       "    <tr>\n",
       "      <th>1</th>\n",
       "      <td>1705 Prime Catering And Events</td>\n",
       "      <td>45012163251</td>\n",
       "      <td>21</td>\n",
       "      <td>69</td>\n",
       "      <td>97.636364</td>\n",
       "    </tr>\n",
       "    <tr>\n",
       "      <th>2</th>\n",
       "      <td>18 Seaboard</td>\n",
       "      <td>28644102109</td>\n",
       "      <td>11</td>\n",
       "      <td>13</td>\n",
       "      <td>96.857143</td>\n",
       "    </tr>\n",
       "    <tr>\n",
       "      <th>3</th>\n",
       "      <td>1853 Grille</td>\n",
       "      <td>24552078492</td>\n",
       "      <td>34</td>\n",
       "      <td>55</td>\n",
       "      <td>95.666667</td>\n",
       "    </tr>\n",
       "    <tr>\n",
       "      <th>4</th>\n",
       "      <td>1887 Bistro</td>\n",
       "      <td>12276051066</td>\n",
       "      <td>3</td>\n",
       "      <td>7</td>\n",
       "      <td>98.333333</td>\n",
       "    </tr>\n",
       "  </tbody>\n",
       "</table>\n",
       "</div>"
      ],
      "text/plain": [
       "                             Name       hsisid  num_critical  \\\n",
       "0                    115 Midtowne  24552085866            30   \n",
       "1  1705 Prime Catering And Events  45012163251            21   \n",
       "2                     18 Seaboard  28644102109            11   \n",
       "3                     1853 Grille  24552078492            34   \n",
       "4                     1887 Bistro  12276051066             3   \n",
       "\n",
       "   num_non_critical  Average_Score  \n",
       "0                53      93.916667  \n",
       "1                69      97.636364  \n",
       "2                13      96.857143  \n",
       "3                55      95.666667  \n",
       "4                 7      98.333333  "
      ]
     },
     "execution_count": 20,
     "metadata": {},
     "output_type": "execute_result"
    }
   ],
   "source": [
    "df_independent = independent_sums.assign(Average_Score = independent_restaurant_inspection.groupby('Name').mean().reset_index().get('Score')).drop(columns=['Score'])\n",
    "df_independent.head()"
   ]
  },
  {
   "cell_type": "markdown",
   "metadata": {},
   "source": [
    "## Exploratory Data Analysis"
   ]
  },
  {
   "cell_type": "markdown",
   "metadata": {},
   "source": [
    "### Visualizations\n",
    "First, I am just plotting the distribution of the inspection scores restaurants received(these are from the original merged DataFrames):"
   ]
  },
  {
   "cell_type": "code",
   "execution_count": 33,
   "metadata": {},
   "outputs": [
    {
     "data": {
      "image/png": "[encoded data removed]",
      "text/plain": [
       "<Figure size 432x288 with 1 Axes>"
      ]
     },
     "metadata": {
      "needs_background": "light"
     },
     "output_type": "display_data"
    }
   ],
   "source": [
    "chain_distr = plt.hist(chain_restaurant_inspection['Score'], bins=100, alpha=0.5, color='darkturquoise');\n",
    "plt.xlabel('Inspection Score');\n",
    "plt.ylabel('Restaurant Count');\n",
    "plt.title('Inspection Score Distribution of Chain Restaurants');\n",
    "mean = int(chain_restaurant_inspection['Score'].mean())\n"
   ]
  },
  {
   "cell_type": "code",
   "execution_count": 35,
   "metadata": {},
   "outputs": [
    {
     "data": {
      "image/png": "[encoded data removed]",
      "text/plain": [
       "<Figure size 432x288 with 1 Axes>"
      ]
     },
     "metadata": {
      "needs_background": "light"
     },
     "output_type": "display_data"
    }
   ],
   "source": [
    "plt.hist(independent_restaurant_inspection['Score'], bins=100, alpha=0.5);\n",
    "plt.xlabel('Inspection Score');\n",
    "plt.ylabel('Restaurant Count');\n",
    "plt.title('Inspection Score Distribution of Independent Restaurants');\n",
    "mean = int(independent_restaurant_inspection['Score'].mean())\n"
   ]
  },
  {
   "cell_type": "markdown",
   "metadata": {},
   "source": [
    "#### Both of the inspection scores of chain and independent restaurants have a left-skewed distribution. These scores are high, with few outliers. \n",
    "##### But which received the highest average score?"
   ]
  },
  {
   "cell_type": "markdown",
   "metadata": {},
   "source": [
    "The next two histograms below show the distribution of average scores received."
   ]
  },
  {
   "cell_type": "code",
   "execution_count": 39,
   "metadata": {},
   "outputs": [
    {
     "data": {
      "text/plain": [
       "<matplotlib.lines.Line2D at 0x7fb07c6f9588>"
      ]
     },
     "execution_count": 39,
     "metadata": {},
     "output_type": "execute_result"
    },
    {
     "data": {
      "image/png": "[encoded data removed]",
      "text/plain": [
       "<Figure size 432x288 with 1 Axes>"
      ]
     },
     "metadata": {
      "needs_background": "light"
     },
     "output_type": "display_data"
    }
   ],
   "source": [
    "chain_avg_score = plt.hist(df_chain['Average_Score'], alpha=0.5, color='darkturquoise');\n",
    "plt.xlabel('Inspection Score');\n",
    "plt.ylabel('Restaurant Count');\n",
    "plt.title('Average Score Distribution of Chain Restaurants');\n",
    "x = df_chain['Average_Score'].mean()\n",
    "\n",
    "# Adding the mean line\n",
    "min_ylim, max_ylim = plt.ylim()\n",
    "plt.text(x.mean()*.97, max_ylim*.8, 'Mean: {:.2f}'.format(x.mean()))\n",
    "\n",
    "plt.axvline(x.mean(), color='k', linestyle='dashed', linewidth=1)\n",
    "\n"
   ]
  },
  {
   "cell_type": "markdown",
   "metadata": {},
   "source": [
    "#### The average inspection score that chain restaurants in Raleigh, NC received was approximately 96.19. "
   ]
  },
  {
   "cell_type": "code",
   "execution_count": 40,
   "metadata": {},
   "outputs": [
    {
     "data": {
      "text/plain": [
       "<matplotlib.lines.Line2D at 0x7fb07c6745c0>"
      ]
     },
     "execution_count": 40,
     "metadata": {},
     "output_type": "execute_result"
    },
    {
     "data": {
      "image/png": "[encoded data removed]",
      "text/plain": [
       "<Figure size 432x288 with 1 Axes>"
      ]
     },
     "metadata": {
      "needs_background": "light"
     },
     "output_type": "display_data"
    }
   ],
   "source": [
    "independent_avg_score = plt.hist(df_independent['Average_Score'], bins=50, alpha=0.5);\n",
    "plt.xlabel('Inspection Score');\n",
    "plt.ylabel('Restaurant Count');\n",
    "plt.title('Average Score Distribution of Independent Restaurants');\n",
    "x = df_independent['Average_Score'].mean()\n",
    "\n",
    "# Adding the mean line\n",
    "min_ylim, max_ylim = plt.ylim()\n",
    "plt.text(x.mean()*.95, max_ylim*.8, 'Mean: {:.2f}'.format(x.mean()))\n",
    "plt.axvline(x.mean(), color='k', linestyle='dashed', linewidth=1)\n",
    "\n"
   ]
  },
  {
   "cell_type": "markdown",
   "metadata": {},
   "source": [
    "#### The average inspection score that independent(non-chain) restaurants received was approximately 95.76."
   ]
  },
  {
   "cell_type": "markdown",
   "metadata": {},
   "source": [
    "From these statistics, we can say that on average chain restaurants received higher inspection scores."
   ]
  },
  {
   "cell_type": "markdown",
   "metadata": {},
   "source": [
    "### Let's start looking at our critical and non-critical data!"
   ]
  },
  {
   "cell_type": "markdown",
   "metadata": {},
   "source": [
    "Below are the distributions of critical(red) and non-critical(blue-green). \n"
   ]
  },
  {
   "cell_type": "code",
   "execution_count": 41,
   "metadata": {},
   "outputs": [
    {
     "data": {
      "image/png": "[encoded data removed]",
      "text/plain": [
       "<Figure size 576x216 with 1 Axes>"
      ]
     },
     "metadata": {
      "needs_background": "light"
     },
     "output_type": "display_data"
    }
   ],
   "source": [
    "# Critical Chain\n",
    "plt.figure(figsize=(8, 3))\n",
    "ax = sns.countplot(palette=\"hot\",x = 'num_critical', data = chain_restaurant_inspection)\n",
    "ax.set(xlabel = 'critical violations', ylabel = '')\n",
    "ax.set_xlabel(xlabel = \"critical violations\", color = 'black')\n",
    "ax.set_ylabel(ylabel = \"count\", color = 'black')\n",
    "plt.title(\"Critical Violations Distribution of Chain Restaurants\")\n",
    "plt.show()"
   ]
  },
  {
   "cell_type": "markdown",
   "metadata": {},
   "source": [
    "Above is a right-skewed distribution of critical violations from chain restaurants."
   ]
  },
  {
   "cell_type": "code",
   "execution_count": 42,
   "metadata": {},
   "outputs": [
    {
     "data": {
      "image/png": "[encoded data removed]",
      "text/plain": [
       "<Figure size 576x216 with 1 Axes>"
      ]
     },
     "metadata": {
      "needs_background": "light"
     },
     "output_type": "display_data"
    }
   ],
   "source": [
    "#Non-Critical Chain\n",
    "plt.figure(figsize=(8, 3))\n",
    "ax = sns.countplot(palette=\"BuGn\",x = 'num_non_critical', data = chain_restaurant_inspection)\n",
    "ax.set(xlabel = 'critical violations', ylabel = '')\n",
    "ax.set_xlabel(xlabel = \"non-critical violations\", color = 'black')\n",
    "ax.set_ylabel(ylabel = \"count\", color = 'black')\n",
    "plt.title(\"Non-Critical Violations Distribution of Chain Restaurants\")\n",
    "plt.show()\n"
   ]
  },
  {
   "cell_type": "markdown",
   "metadata": {},
   "source": [
    "The next two graphs show the distributions of inspection violations by **independent** restaurants. The graphs above and the following are quite similar; however, we notice that outliers are greater on the graph of chain restaurants. "
   ]
  },
  {
   "cell_type": "code",
   "execution_count": 43,
   "metadata": {},
   "outputs": [
    {
     "data": {
      "image/png": "[encoded data removed]",
      "text/plain": [
       "<Figure size 576x216 with 1 Axes>"
      ]
     },
     "metadata": {
      "needs_background": "light"
     },
     "output_type": "display_data"
    }
   ],
   "source": [
    "#Critical Independent\n",
    "plt.figure(figsize=(8, 3))\n",
    "ax = sns.countplot(palette=\"hot\",x = 'num_critical', data = independent_restaurant_inspection)\n",
    "ax.set(xlabel = 'critical violations', ylabel = '')\n",
    "ax.set_xlabel(xlabel = \"critical violations\", color = 'black')\n",
    "ax.set_ylabel(ylabel = \"count\", color = 'black')\n",
    "plt.title(\"Critical Violations Distribution of Independent Restaurants\")\n",
    "plt.show()"
   ]
  },
  {
   "cell_type": "code",
   "execution_count": 45,
   "metadata": {},
   "outputs": [
    {
     "data": {
      "image/png": "[encoded data removed]",
      "text/plain": [
       "<Figure size 576x216 with 1 Axes>"
      ]
     },
     "metadata": {
      "needs_background": "light"
     },
     "output_type": "display_data"
    }
   ],
   "source": [
    "#Non-Critical Independent\n",
    "plt.figure(figsize=(8, 3))\n",
    "ax = sns.countplot(palette=\"BuGn\",x = 'num_non_critical', data = independent_restaurant_inspection)\n",
    "ax.set(xlabel = 'non-critical violations', ylabel = '')\n",
    "ax.set_xlabel(xlabel = \"non-critical violations\", color = 'black')\n",
    "ax.set_ylabel(ylabel = \"count\", color = 'black')\n",
    "plt.title(\"Non-Critical Violations Distribution of Independent Restaurants\")\n",
    "plt.show()"
   ]
  },
  {
   "cell_type": "markdown",
   "metadata": {},
   "source": [
    "After creating the distributions of critical and non- critical violations for both types of restaurants, not much can be concluded about health inspection scores relative to type of violation and the type of restaurants. \n",
    "\n",
    "So far we can say that non-critical violations are more frequently done than critical ones amongst both chain and non-chain restaurants.\n"
   ]
  },
  {
   "cell_type": "markdown",
   "metadata": {},
   "source": [
    "### Finding a Correlation"
   ]
  },
  {
   "cell_type": "markdown",
   "metadata": {},
   "source": [
    "We saw that the mean scores received by **chains** were a tad bit **higher** than independent restaurants.\n",
    "\n",
    "We also found that non-critical violations were committed more often by both chain and non-chain restaurants.\n",
    "\n",
    "#### Let's see if we can figure out how the type of violation affects the inspection scores by examining correlations.\n",
    "\n",
    "We will be using the datasets before they were grouped by restaurant names to increase accuracy.\n",
    "    1. chain_restaurant_inspection\n",
    "    2. independent_restaurant_inspection\n",
    "    \n",
    "This is because if we were to use information grouped by their restaurants, we would not be able to measure correlation between the number of critical and non-critical violations to the score received. Rather, we would have been measuring sums and averages.\n",
    "\n"
   ]
  },
  {
   "cell_type": "code",
   "execution_count": 46,
   "metadata": {},
   "outputs": [
    {
     "data": {
      "text/html": [
       "<div>\n",
       "<style scoped>\n",
       "    .dataframe tbody tr th:only-of-type {\n",
       "        vertical-align: middle;\n",
       "    }\n",
       "\n",
       "    .dataframe tbody tr th {\n",
       "        vertical-align: top;\n",
       "    }\n",
       "\n",
       "    .dataframe thead th {\n",
       "        text-align: right;\n",
       "    }\n",
       "</style>\n",
       "<table border=\"1\" class=\"dataframe\">\n",
       "  <thead>\n",
       "    <tr style=\"text-align: right;\">\n",
       "      <th></th>\n",
       "      <th>hsisid</th>\n",
       "      <th>Name</th>\n",
       "      <th>City</th>\n",
       "      <th>Facility_Type</th>\n",
       "      <th>Score</th>\n",
       "      <th>num_critical</th>\n",
       "      <th>num_non_critical</th>\n",
       "    </tr>\n",
       "  </thead>\n",
       "  <tbody>\n",
       "    <tr>\n",
       "      <th>0</th>\n",
       "      <td>4092014493</td>\n",
       "      <td>Chick-Fil-A #1573</td>\n",
       "      <td>Raleigh</td>\n",
       "      <td>Restaurant</td>\n",
       "      <td>97.0</td>\n",
       "      <td>3</td>\n",
       "      <td>8</td>\n",
       "    </tr>\n",
       "    <tr>\n",
       "      <th>1</th>\n",
       "      <td>4092014493</td>\n",
       "      <td>Chick-Fil-A #1573</td>\n",
       "      <td>Raleigh</td>\n",
       "      <td>Restaurant</td>\n",
       "      <td>97.5</td>\n",
       "      <td>5</td>\n",
       "      <td>3</td>\n",
       "    </tr>\n",
       "    <tr>\n",
       "      <th>2</th>\n",
       "      <td>4092014493</td>\n",
       "      <td>Chick-Fil-A #1573</td>\n",
       "      <td>Raleigh</td>\n",
       "      <td>Restaurant</td>\n",
       "      <td>98.0</td>\n",
       "      <td>0</td>\n",
       "      <td>2</td>\n",
       "    </tr>\n",
       "    <tr>\n",
       "      <th>3</th>\n",
       "      <td>4092014493</td>\n",
       "      <td>Chick-Fil-A #1573</td>\n",
       "      <td>Raleigh</td>\n",
       "      <td>Restaurant</td>\n",
       "      <td>94.0</td>\n",
       "      <td>4</td>\n",
       "      <td>7</td>\n",
       "    </tr>\n",
       "    <tr>\n",
       "      <th>4</th>\n",
       "      <td>4092014493</td>\n",
       "      <td>Chick-Fil-A #1573</td>\n",
       "      <td>Raleigh</td>\n",
       "      <td>Restaurant</td>\n",
       "      <td>97.0</td>\n",
       "      <td>2</td>\n",
       "      <td>6</td>\n",
       "    </tr>\n",
       "    <tr>\n",
       "      <th>...</th>\n",
       "      <td>...</td>\n",
       "      <td>...</td>\n",
       "      <td>...</td>\n",
       "      <td>...</td>\n",
       "      <td>...</td>\n",
       "      <td>...</td>\n",
       "      <td>...</td>\n",
       "    </tr>\n",
       "    <tr>\n",
       "      <th>1474</th>\n",
       "      <td>4092016663</td>\n",
       "      <td>Bojangles #5</td>\n",
       "      <td>Raleigh</td>\n",
       "      <td>Restaurant</td>\n",
       "      <td>98.0</td>\n",
       "      <td>2</td>\n",
       "      <td>1</td>\n",
       "    </tr>\n",
       "    <tr>\n",
       "      <th>1475</th>\n",
       "      <td>4092016663</td>\n",
       "      <td>Bojangles #5</td>\n",
       "      <td>Raleigh</td>\n",
       "      <td>Restaurant</td>\n",
       "      <td>98.0</td>\n",
       "      <td>2</td>\n",
       "      <td>3</td>\n",
       "    </tr>\n",
       "    <tr>\n",
       "      <th>1476</th>\n",
       "      <td>4092016663</td>\n",
       "      <td>Bojangles #5</td>\n",
       "      <td>Raleigh</td>\n",
       "      <td>Restaurant</td>\n",
       "      <td>98.5</td>\n",
       "      <td>1</td>\n",
       "      <td>2</td>\n",
       "    </tr>\n",
       "    <tr>\n",
       "      <th>1477</th>\n",
       "      <td>4092016663</td>\n",
       "      <td>Bojangles #5</td>\n",
       "      <td>Raleigh</td>\n",
       "      <td>Restaurant</td>\n",
       "      <td>99.0</td>\n",
       "      <td>0</td>\n",
       "      <td>5</td>\n",
       "    </tr>\n",
       "    <tr>\n",
       "      <th>1478</th>\n",
       "      <td>4092016663</td>\n",
       "      <td>Bojangles #5</td>\n",
       "      <td>Raleigh</td>\n",
       "      <td>Restaurant</td>\n",
       "      <td>97.0</td>\n",
       "      <td>3</td>\n",
       "      <td>3</td>\n",
       "    </tr>\n",
       "  </tbody>\n",
       "</table>\n",
       "<p>1479 rows × 7 columns</p>\n",
       "</div>"
      ],
      "text/plain": [
       "          hsisid               Name     City Facility_Type  Score  \\\n",
       "0     4092014493  Chick-Fil-A #1573  Raleigh    Restaurant   97.0   \n",
       "1     4092014493  Chick-Fil-A #1573  Raleigh    Restaurant   97.5   \n",
       "2     4092014493  Chick-Fil-A #1573  Raleigh    Restaurant   98.0   \n",
       "3     4092014493  Chick-Fil-A #1573  Raleigh    Restaurant   94.0   \n",
       "4     4092014493  Chick-Fil-A #1573  Raleigh    Restaurant   97.0   \n",
       "...          ...                ...      ...           ...    ...   \n",
       "1474  4092016663       Bojangles #5  Raleigh    Restaurant   98.0   \n",
       "1475  4092016663       Bojangles #5  Raleigh    Restaurant   98.0   \n",
       "1476  4092016663       Bojangles #5  Raleigh    Restaurant   98.5   \n",
       "1477  4092016663       Bojangles #5  Raleigh    Restaurant   99.0   \n",
       "1478  4092016663       Bojangles #5  Raleigh    Restaurant   97.0   \n",
       "\n",
       "      num_critical  num_non_critical  \n",
       "0                3                 8  \n",
       "1                5                 3  \n",
       "2                0                 2  \n",
       "3                4                 7  \n",
       "4                2                 6  \n",
       "...            ...               ...  \n",
       "1474             2                 1  \n",
       "1475             2                 3  \n",
       "1476             1                 2  \n",
       "1477             0                 5  \n",
       "1478             3                 3  \n",
       "\n",
       "[1479 rows x 7 columns]"
      ]
     },
     "execution_count": 46,
     "metadata": {},
     "output_type": "execute_result"
    }
   ],
   "source": [
    "chain_restaurant_inspection"
   ]
  },
  {
   "cell_type": "markdown",
   "metadata": {},
   "source": [
    "#### Using Pearsons Correlation Coefficient to measure the linear relationship between two  numerical variables of data"
   ]
  },
  {
   "cell_type": "markdown",
   "metadata": {},
   "source": [
    "In our chain_restaurant_inspection and independent_restaurant_inspection datasets, we have individual scores along with the number of critical and number of non-critical violations. \n",
    "\n",
    "We will now try to find a correlation between the number of critical and non-critical violations with the scores using a scipy.stats function: **pearonr().**"
   ]
  },
  {
   "cell_type": "markdown",
   "metadata": {},
   "source": [
    "#### We will be taking a look at the chain restaurants' data first:"
   ]
  },
  {
   "cell_type": "code",
   "execution_count": 47,
   "metadata": {},
   "outputs": [],
   "source": [
    "# Assigning the data to variables \n",
    "x = chain_restaurant_inspection['Score']\n",
    "y = chain_restaurant_inspection['num_non_critical']\n",
    "z = chain_restaurant_inspection['num_critical']"
   ]
  },
  {
   "cell_type": "code",
   "execution_count": 48,
   "metadata": {},
   "outputs": [
    {
     "data": {
      "text/plain": [
       "-0.5602941490350962"
      ]
     },
     "execution_count": 48,
     "metadata": {},
     "output_type": "execute_result"
    }
   ],
   "source": [
    "#non-critical & avg score, but we're only looking at the correlation\n",
    "correlation_x_y, p_value = stats.pearsonr(x, y)\n",
    "correlation_x_y"
   ]
  },
  {
   "cell_type": "code",
   "execution_count": 49,
   "metadata": {},
   "outputs": [
    {
     "data": {
      "text/plain": [
       "-0.585118187952395"
      ]
     },
     "execution_count": 49,
     "metadata": {},
     "output_type": "execute_result"
    }
   ],
   "source": [
    "#critical & avg score\n",
    "correlation_x_z, p_value = stats.pearsonr(x, z)\n",
    "correlation_x_z "
   ]
  },
  {
   "cell_type": "markdown",
   "metadata": {},
   "source": [
    "###### We got both negative numbers! This indicates that our (violation) variables have negative correlations to the  scores received.\n",
    "Let's see what that actually looks like..."
   ]
  },
  {
   "cell_type": "code",
   "execution_count": 51,
   "metadata": {},
   "outputs": [
    {
     "data": {
      "text/plain": [
       "<matplotlib.axes._subplots.AxesSubplot at 0x7fb07c29fb38>"
      ]
     },
     "execution_count": 51,
     "metadata": {},
     "output_type": "execute_result"
    },
    {
     "data": {
      "image/png": "[encoded data removed]",
      "text/plain": [
       "<Figure size 432x288 with 2 Axes>"
      ]
     },
     "metadata": {
      "needs_background": "light"
     },
     "output_type": "display_data"
    }
   ],
   "source": [
    "fig, (ax1, ax2) = plt.subplots(ncols=2, sharey=True)\n",
    "plt.title(\"Violation Correation (Chain Restaurants)\", fontsize = 10, ha='right')\n",
    "sns.regplot(x=\"num_critical\",y=\"Score\", data= chain_restaurant_inspection, color ='crimson', ax = ax1)\n",
    "sns.regplot(x=\"num_non_critical\",y=\"Score\", data= chain_restaurant_inspection, color ='lightskyblue', ax=ax2)\n",
    "\n"
   ]
  },
  {
   "cell_type": "markdown",
   "metadata": {},
   "source": [
    "Now let's take a look at our independent restaurants' dataset.."
   ]
  },
  {
   "cell_type": "code",
   "execution_count": 53,
   "metadata": {},
   "outputs": [],
   "source": [
    "u = independent_restaurant_inspection['Score']\n",
    "v = independent_restaurant_inspection['num_non_critical']\n",
    "w = independent_restaurant_inspection['num_critical']"
   ]
  },
  {
   "cell_type": "code",
   "execution_count": 54,
   "metadata": {},
   "outputs": [
    {
     "data": {
      "text/plain": [
       "-0.5910216707522917"
      ]
     },
     "execution_count": 54,
     "metadata": {},
     "output_type": "execute_result"
    }
   ],
   "source": [
    "correlation_u_v, p_value = stats.pearsonr(u, v)\n",
    "correlation_u_v"
   ]
  },
  {
   "cell_type": "code",
   "execution_count": 55,
   "metadata": {},
   "outputs": [
    {
     "data": {
      "text/plain": [
       "-0.5937036100864761"
      ]
     },
     "execution_count": 55,
     "metadata": {},
     "output_type": "execute_result"
    }
   ],
   "source": [
    "correlation_u_w, p_value = stats.pearsonr(u, w)\n",
    "correlation_u_w"
   ]
  },
  {
   "cell_type": "code",
   "execution_count": 56,
   "metadata": {},
   "outputs": [
    {
     "data": {
      "text/plain": [
       "<matplotlib.axes._subplots.AxesSubplot at 0x7fb07c20fac8>"
      ]
     },
     "execution_count": 56,
     "metadata": {},
     "output_type": "execute_result"
    },
    {
     "data": {
      "image/png": "[encoded data removed]",
      "text/plain": [
       "<Figure size 432x288 with 2 Axes>"
      ]
     },
     "metadata": {
      "needs_background": "light"
     },
     "output_type": "display_data"
    }
   ],
   "source": [
    "fig, (ax1, ax2) = plt.subplots(ncols=2, sharey=True)\n",
    "plt.title(\"Violation Correation (Independent Restaurants)\", fontsize = 10, ha='right')\n",
    "sns.regplot(x=\"num_critical\",y=\"Score\", data= independent_restaurant_inspection, color ='crimson', ax = ax1)\n",
    "sns.regplot(x=\"num_non_critical\",y=\"Score\", data= independent_restaurant_inspection, color ='lightskyblue', ax=ax2)"
   ]
  },
  {
   "cell_type": "markdown",
   "metadata": {},
   "source": [
    "We see a _strong **negative**_ correlation between the number of critical and non-critical violations with the health inspection scores received. \n",
    "\n",
    "What this tells us about the effect from the number of a certain type of violation on a rating is that there's not much of a correlation. \n"
   ]
  },
  {
   "cell_type": "markdown",
   "metadata": {},
   "source": [
    "# Ethics & Privacy "
   ]
  },
  {
   "cell_type": "markdown",
   "metadata": {},
   "source": [
    "The question of whether or not chain restaurants receive higher scores from health inspection visits than independent restaurants does not pose clear ethical concerns, for it is regarding information accessible to the public. For example, health inspection ratings are displayed on restaunrat windows, or at least somewhere visible to their customers. \n",
    "\n",
    "However, some potential ethical concerns may be regarding the collection of \"types of violation\", as that is not always known to the general public without looking for it.  The dataset containing the location information could be biased, because Raleigh is the capital of North Carolina. This means it is likely that tourists and other people may visitthis city more than they would another North Carolina city. The way food businesses handle their services may be better than other places in NC, so this analysis would not be ideal when seeking for information about other cities. To preserve privacy, information like, phone numbers have been removed from the analysis.\n",
    "\n",
    "An unitended (problematic) consequence of this analysis can be that, it could lead consumers to believe that the type of restaurant, chain and independent, play a role in the health inspection scores they receive. This could cause restaurants to lose potential business, in particular, local independent ones.\n",
    "However, I would protect this by making it known that the conclusion is purely based on our findings in the city of Raleigh, so it is not necessarily accurate everywhere. "
   ]
  },
  {
   "cell_type": "markdown",
   "metadata": {},
   "source": [
    "# Conclusion & Discussion"
   ]
  },
  {
   "cell_type": "markdown",
   "metadata": {},
   "source": [
    "First, we must note that this project was based only **restaurants** in **Raleigh, NC**.\n",
    "\n",
    "\n",
    "#### After cleaning the health inspection and restaurant datasets and creating visualizations this is what was found:\n",
    "\n",
    "###### Do chain restaurants in Raleigh, NC receive higher health inspection scores on average than independent restaurants? \n",
    "\n",
    "Although both chain and non-chain(independent) restaurants received fairly high inspection scores in Raleigh, NC, with the average of scores for chain being 96.19 and independent 95.76. These numbers were the average of restaurants and their scores, making sure to not calculate multiple inspection visits for this finding. It does not seem like there is a strong correlation between a health inspection rating and the kind of restaurant. \n",
    "\n",
    "My hypothesis was that chain restaurants will have higher health inspection scores than independent restaurants for the reasoning that they have higher standards to uphold. Though it was found that chain restaurants had a slightly higher average in health inspection scores than nonchains, the reasoning was not clear. It should also be noted that the average was calculated after averaging the scores of restaurants and their multiple inspection visits. This could have affected the results in that it could've been biased towards chain restaurants, because we also found that there were less individual chain restaurants than independent, but more chain restaurants in total. \n",
    "\n",
    "\n",
    "\n",
    "###### How does the number of critical and non-critical violations affect these scores?\n",
    "\n",
    "This question was asked with intent to explore how and what affectes health inspection scores.I initially thought that there would be a correlation between the number of critical violations and inspection scores, assuming that critical violations would be weighed heavier on a score than noncritical. \n",
    "\n",
    "With both chain and nonchain restaurants having committed more non-critical violations than critical, along with having high(left-skewed distributions), we couldn't conclude whether or not there was an actual relation between scores and the violation counts yet. Proceeding with analysis of individual inspection visits of both independent and chain restaurants, we found no correlation. \n",
    "\n",
    "Though there was a negative correlation between these variables(for both chain and nonchain restaurants!), a few possible reasons for the lack of correlation could be because the number of violation does not actually have any weight towards the overall score and or, maybe inspectors have a different way of scaling their scores. \n",
    "\n",
    "\n",
    "#### Limitations\n",
    "\n",
    "Limitations to my analysis included being limited to food businesses only in North Carolina, so if the region was not limited, the findings of the analysis could have changed. Besides that, the research questions posed had no significant problem being answered.\n",
    "\n",
    "\n",
    "#### Takeaways\n",
    "\n",
    "To society, (hopefully) they will think of a restaurant's health inspection scores with a more open mind, because there are so many factors that could go into it, more than just critical violations...\n"
   ]
  }
 ],
 "metadata": {
  "kernelspec": {
   "display_name": "Python 3",
   "language": "python",
   "name": "python3"
  },
  "language_info": {
   "codemirror_mode": {
    "name": "ipython",
    "version": 3
   },
   "file_extension": ".py",
   "mimetype": "text/x-python",
   "name": "python",
   "nbconvert_exporter": "python",
   "pygments_lexer": "ipython3",
   "version": "3.6.7"
  }
 },
 "nbformat": 4,
 "nbformat_minor": 2
}
