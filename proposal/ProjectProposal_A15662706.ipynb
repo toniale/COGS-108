{
 "cells": [
  {
   "cell_type": "markdown",
   "metadata": {},
   "source": [
    "# COGS 108 - Project Proposal"
   ]
  },
  {
   "cell_type": "markdown",
   "metadata": {},
   "source": [
    "# Names & PID\n",
    "\n",
    "- Name: Tonia Le\n",
    "- PID: A15662706"
   ]
  },
  {
   "cell_type": "markdown",
   "metadata": {},
   "source": [
    "# Research Question"
   ]
  },
  {
   "cell_type": "markdown",
   "metadata": {},
   "source": [
    "- Do chain resturants have higher health inspection ratings than independent restaurants in Los Angeles?\n"
   ]
  },
  {
   "cell_type": "markdown",
   "metadata": {},
   "source": [
    "## Background and Prior Work"
   ]
  },
  {
   "cell_type": "markdown",
   "metadata": {},
   "source": [
    "*Fill in your background and prior work here. Be sure to specify which statements are from which references.* \n",
    "\n",
    "References (include links):\n",
    "- 1) In this study by Sarah E. Leinwand, Karen Glanz, Brendan T. Keenan,and Charles C. Branas, the resesarchers sought out to explore how restaurant inspection frequency and the surrounding area's sociodemographic characteristics related to the ratings received by chain and non chain restaurants in Philadelphia, Pennsylvania between the years of 2013 and 2014. The researchers categorized the results of resturant inspections by chain v.s nonchain, and as for the inspection frequency, they were categorized by 1, 2, or greater than 3 in the 2 year time frame (2013-2014), and violation type(\"total number of violations, foodborne illness risk, or good retain practice violation\"). To find connections between the sociodemographic for each restaurant neighborhood, the researchers used \"nested mixed-effects regression analyses\". At the end of their study, they found that chain restuarants had less total violations per inspection compared to nonchain restaurants. It was also determined that for nonchain restaurants, a higher proportion of black residents in the restaurant community was associated with fewr foodborne- illness risk factor violations, but more average \"good retail practice\" violations. https://www.ncbi.nlm.nih.gov/pmc/articles/PMC5349477/\n",
    "\n",
    "- 2) This study conducted by Pei Liu and Yee Ming Lee, investigated food safety performance between ethnic and nonethnic and chain and nonchain restarants in Louisiana. The resesrchers analyzed public secondary data of the top 10 most populated cities in Louisiana between January 1 to December 31, 2001. Before analyzing the data, the food code violations were categorized into 17 categroies as defined by the Louisiana Department of Health and Hospitals(LDHH). A chain restaurant is defined as “one of a number of retail stores operating under the same brand name and selling similar merchandise” (Free Dictionary, 2015). They used descriptive statistics, t-test, and Pearson Chi-square analyses in their study. Their finding about chain and nonchain resturants was that critical violations in most categroies were more frequent in independent than in chain resturants. They concluded that the frequency of violations found by independently operated resturants is an indicator that they should comply with FDA Food Code more diligently. https://www.tandfonline.com/doi/pdf/10.1080/15378020.2016.1206770?casa_token=CT2p-9nupKYAAAAA:jnQSYKYnpMMMihqgMQrA1Fwrhb3xpSD4AK3IoZ4jt2Jz1LZF9BydrfW0U-bmkNYq57ibefgRYly-GA"
   ]
  },
  {
   "cell_type": "markdown",
   "metadata": {},
   "source": [
    "# Hypothesis\n"
   ]
  },
  {
   "cell_type": "markdown",
   "metadata": {},
   "source": [
    "The difference between chain and nonchain restaurants, is that chain restarants are to uphold the name of the franchise and maintain a certain level of quality ontop of the regulatory requirements by the U.S Food and Drug Administration. Because of this additional piece of accountability, I think chain restaurants in Los Angeles tend to receive higher health inspection ratings on average than independent restaurants.     "
   ]
  },
  {
   "cell_type": "markdown",
   "metadata": {},
   "source": [
    "# Data"
   ]
  },
  {
   "cell_type": "markdown",
   "metadata": {},
   "source": [
    "*Explain what the ideal dataset you would want to answer this question. (This should include: What variables? How many observations? Who/what/how would these data be collected? How would these data be stored/organized?)*\n",
    "\n",
    "An ideal dataset would come from public accessible data and include the following variables:\n",
    "1. Location (South and Los Angeles)\n",
    "2. Health Inspection Ratings\n",
    "3. Restaurant Type (Chain V.S Independent)\n",
    "4. Types of Violation: this would allow us to see if the type of violation pertained to business practices, services (cleanliness) or quality of product.\n",
    "5. Years of Operation: to try to identify whether this number can contribute to the violations a restaurant may or may not receive. Sometimes a \"younger\" business may encounter more violations and begin to improve later. \n",
    "\n",
    "It would be for this data to be stored in a tabular format for simpler visualization. This would allow us to then wrangle and tidy it up. These factors could guide us to determining whether or not chain restaurants have higher health inspection ratings compared to independent restaurants, and possibly allow us to conclude why this is or is not. The list above describes an ideal dataset, because it contains many significant information and characteristics that may influence the ratings of a restaurant, chain and independent.\n",
    " \n"
   ]
  },
  {
   "cell_type": "markdown",
   "metadata": {},
   "source": [
    "# Ethics & Privacy"
   ]
  },
  {
   "cell_type": "markdown",
   "metadata": {},
   "source": [
    "The question of whether or not chain restaurants receive higher health inspection ratings than independent does not pose clear ethical concerns, for it is regarding information accessible to the public. For example, health inspection ratings are displayed on restuanrat windows, or at least somewhere visible to their customer. However, some potential ethical concerns may be regarding the collection of \"types of violation\", as that is not always known to the general public without looking for it. The dataset containing the location information could be biased, because Los Angeles does have inequality of socioeconomic statuses, since it is such a large city. I would handle the issues of bias by wrangling for different regions, such as northwest(which is known as the affluent area) and south(the area  of low socioeconomic status). By doing this, I would aim to gather information from chain and nonchain restaurants in all regions of Los Angeles."
   ]
  },
  {
   "cell_type": "code",
   "execution_count": null,
   "metadata": {},
   "outputs": [],
   "source": []
  }
 ],
 "metadata": {
  "kernelspec": {
   "display_name": "Python 3",
   "language": "python",
   "name": "python3"
  },
  "language_info": {
   "codemirror_mode": {
    "name": "ipython",
    "version": 3
   },
   "file_extension": ".py",
   "mimetype": "text/x-python",
   "name": "python",
   "nbconvert_exporter": "python",
   "pygments_lexer": "ipython3",
   "version": "3.6.7"
  }
 },
 "nbformat": 4,
 "nbformat_minor": 2
}
